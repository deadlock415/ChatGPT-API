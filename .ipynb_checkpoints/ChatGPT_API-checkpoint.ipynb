{
 "cells": [
  {
   "cell_type": "code",
   "execution_count": 3,
   "id": "38657165",
   "metadata": {},
   "outputs": [
    {
     "name": "stdout",
     "output_type": "stream",
     "text": [
      "enter the prompt: ancient aliens\n",
      "Output are as follows:\n",
      "\n",
      "\n",
      "Ancient Aliens is a television series from the History Channel that airs in over 40 countries. It explores the suggested belief that extraterrestrial beings visited Earth in the distant past and shaped many of the ancient cultures in surprising and profound ways.\n"
     ]
    }
   ],
   "source": [
    "import openai\n",
    "openai.api_key = 'Enter your API_Key'\n",
    "text=input(\"enter the prompt: \")\n",
    "output = openai.Completion.create(\n",
    "prompt= text,\n",
    "model = \"text-davinci-003\",\n",
    "max_tokens = 1000\n",
    ")\n",
    "print(\"Output are as follows:\")\n",
    "print(output[\"choices\"][0][\"text\"])"
   ]
  },
  {
   "cell_type": "code",
   "execution_count": null,
   "id": "b22402c6",
   "metadata": {},
   "outputs": [],
   "source": []
  }
 ],
 "metadata": {
  "kernelspec": {
   "display_name": "Python 3 (ipykernel)",
   "language": "python",
   "name": "python3"
  },
  "language_info": {
   "codemirror_mode": {
    "name": "ipython",
    "version": 3
   },
   "file_extension": ".py",
   "mimetype": "text/x-python",
   "name": "python",
   "nbconvert_exporter": "python",
   "pygments_lexer": "ipython3",
   "version": "3.8.10"
  }
 },
 "nbformat": 4,
 "nbformat_minor": 5
}
